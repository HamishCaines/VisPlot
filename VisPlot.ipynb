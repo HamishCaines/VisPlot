{
 "cells": [
  {
   "cell_type": "markdown",
   "metadata": {},
   "source": [
    "# VisPlot\n",
    "#### Calculates target visibility over requested nights and plots in graph format\n",
    "#### Requries two files, one of locations, and one of targets, see example files supplied for formats, 'locations' and 'testfile'\n",
    "#### Set target filename and output filename below, input is .in and output is .out of the same name"
   ]
  },
  {
   "cell_type": "code",
   "execution_count": 1,
   "metadata": {},
   "outputs": [],
   "source": [
    "target_file = 'testfile'"
   ]
  },
  {
   "cell_type": "code",
   "execution_count": 2,
   "metadata": {},
   "outputs": [],
   "source": [
    "import numpy as np\n",
    "from PyAstronomy import pyasl\n",
    "import matplotlib.pyplot as plt\n",
    "import datetime as dt\n",
    "from astropy.coordinates import SkyCoord\n",
    "import json"
   ]
  },
  {
   "cell_type": "markdown",
   "metadata": {},
   "source": [
    "#### Create target object"
   ]
  },
  {
   "cell_type": "code",
   "execution_count": 3,
   "metadata": {},
   "outputs": [],
   "source": [
    "#makes a target object\n",
    "class Visibility:\n",
    "    def __init__(self, target_name, obs_date, coordinates, obs_name, latitude, longitude, altitude, timezone):\n",
    "        \"\"\"Creates an observation target from the specified parameters\n",
    "        :param target_name: target identifier\n",
    "        :param obs_date: date of observation\n",
    "        :param coordinates: RA and Dec in SkyCoord object\n",
    "        :param obs_name: observatory name\n",
    "        :param latitude: observatory latitude\n",
    "        :param longitude: observation longitude\n",
    "        :param altitude: observatory altitude\n",
    "        \"\"\"\n",
    "        self.date = obs_date\n",
    "        self.name = target_name\n",
    "        self.coord = coordinates\n",
    "        self.loc = obs_name\n",
    "        self.lati = float(latitude)\n",
    "        self.long = float(longitude)\n",
    "        self.alti = float(altitude)\n",
    "        self.zone = int(timezone)"
   ]
  },
  {
   "cell_type": "markdown",
   "metadata": {},
   "source": [
    "#### Create location object"
   ]
  },
  {
   "cell_type": "code",
   "execution_count": 4,
   "metadata": {},
   "outputs": [],
   "source": [
    "#makes a location object\n",
    "class Location:\n",
    "    def __init__(self, obs_name, latitude, longitude, altitude, timezone):\n",
    "        \"\"\"Creates a location object from specified parameters\n",
    "        :param obs_name: observatory name\n",
    "        :param latitude: observatory latitude in decimal deg\n",
    "        :param longitude: observation longitude in decimal deg\n",
    "        :param altitude: observatory altitude in m\n",
    "        \"\"\"\n",
    "        self.loc = obs_name\n",
    "        self.lati = latitude\n",
    "        self.long = longitude\n",
    "        self.alti = altitude\n",
    "        self.zone = timezone"
   ]
  },
  {
   "cell_type": "markdown",
   "metadata": {},
   "source": [
    "#### Load in location list from location file"
   ]
  },
  {
   "cell_type": "code",
   "execution_count": 5,
   "metadata": {},
   "outputs": [],
   "source": [
    "locations=[] #list of observatories\n",
    "keys=[] #observatory keys\n",
    "locfilename = 'locations.dat' #location file\n",
    "file = open(locfilename,'r')\n",
    "\n",
    "#read file one line at a time, extract data from each\n",
    "for line in file:\n",
    "    if line[0] != '!': #check for comments\n",
    "        tokens = []\n",
    "        split = line.split()\n",
    "        \n",
    "        #extract information from line\n",
    "        for token in split:\n",
    "            tokens.append(token) \n",
    "        loc = tokens[0]\n",
    "        lat = tokens[1]\n",
    "        lon = tokens[2]\n",
    "        alt = tokens[3]\n",
    "        tzone = tokens[4]\n",
    "        \n",
    "        if tokens[0] not in keys: #check if location is already in list, only add if new\n",
    "            keys.append(tokens[0]) \n",
    "            newloc = Location(loc, lat, lon, alt, tzone) #initialise location object\n",
    "            locations.append(newloc) #add to list"
   ]
  },
  {
   "cell_type": "markdown",
   "metadata": {},
   "source": [
    "#### Load in list of targets from file, using location list if location is specified"
   ]
  },
  {
   "cell_type": "code",
   "execution_count": 7,
   "metadata": {},
   "outputs": [],
   "source": [
    "file = open(target_file+'.in','r') #open file\n",
    "\n",
    "targets=[]\n",
    "\n",
    "#read file one line at a time, extract data from each\n",
    "for line in file:\n",
    "    if line[0] != '!':\n",
    "        tokens = []\n",
    "        split = line.split()\n",
    "        \n",
    "        #extract information from line\n",
    "        for token in split:\n",
    "            tokens.append(token)\n",
    "        target = tokens[0]\n",
    "        date = tokens[1]\n",
    "        ra = tokens[2]\n",
    "        dec = tokens[3]\n",
    "        coord = SkyCoord(ra, dec) #convert RA and Dec to SkyCoord\n",
    "        \n",
    "        loc = tokens[4] #obtain location\n",
    "        \n",
    "        if loc in keys: #check list for location\n",
    "            index = keys.index(loc) #obtain location index\n",
    "            #set location data\n",
    "            lat = locations[index].lati\n",
    "            lon = locations[index].long\n",
    "            alt = locations[index].alti\n",
    "            tz = locations[index].zone\n",
    "            \n",
    "        else: #if location not known, use rest of input for location data\n",
    "            lat = tokens[5]\n",
    "            lon = tokens[6]\n",
    "            alt = tokens[7]\n",
    "            tz = tokens[8]\n",
    "\n",
    "        newtarget = Visibility(target, date, coord, loc, lat, lon, alt, tz) #create target object\n",
    "        targets.append(newtarget) #add to list"
   ]
  },
  {
   "cell_type": "markdown",
   "metadata": {},
   "source": [
    "### For each target:\n",
    "#### Determine time range, find coordinates of target and moon over time range in altaz format\n",
    "#### Determine day, twilight, and night ranges, max target altitude, and average moon phase\n",
    "#### Plot everything on one graph per target, saves each with filename \"date-target-location\"\n",
    "#### Compile outputs into dictionary and write into json file"
   ]
  },
  {
   "cell_type": "code",
   "execution_count": 8,
   "metadata": {},
   "outputs": [
    {
     "data": {
      "image/png": "[encoded data removed]",
      "text/plain": [
       "<Figure size 432x288 with 1 Axes>"
      ]
     },
     "metadata": {},
     "output_type": "display_data"
    },
    {
     "name": "stdout",
     "output_type": "stream",
     "text": [
      "{\"date\": \"2018-09-11\", \"target\": \"m81\", \"observatory\": \"UCLO\", \"night start\": \"18:27\", \"night end\": \"5:30\", \"observability\": true, \"altitude start\": 39.10884, \"altitude middle\": 31.55751, \"altitude end\": 51.50682, \"moon phase\": 0.02}\n"
     ]
    },
    {
     "data": {
      "image/png": "[encoded data removed]",
      "text/plain": [
       "<Figure size 432x288 with 1 Axes>"
      ]
     },
     "metadata": {},
     "output_type": "display_data"
    },
    {
     "name": "stdout",
     "output_type": "stream",
     "text": [
      "{\"date\": \"2018-09-11\", \"target\": \"m81\", \"observatory\": \"AAO\", \"night start\": \"13:54\", \"night end\": \"2:09\", \"observability\": false, \"altitude start\": -35.2886, \"altitude middle\": -50.71395, \"altitude end\": -21.7636, \"moon phase\": 0.01}\n"
     ]
    }
   ],
   "source": [
    "datewidth = 1.0/24/20 #set number of data points\n",
    "\n",
    "output = open(target_file+'.out','w')\n",
    "\n",
    "#loop over all targets\n",
    "for i in range(0,len(targets)):\n",
    "    #determine time range\n",
    "    ymd = [int(j) for j in targets[i].date.split('-')] #extract date data for each target\n",
    "    date = dt.datetime(*ymd) - dt.timedelta(hours = targets[i].zone) # convert to DateTime object and adjust for timezone of telescope\n",
    "    jd = pyasl.jdcnv(date) #find Julian date\n",
    "    jd_start = jd-0.5 #start of time range\n",
    "    jd_end = jd+0.5 #end of time range\n",
    "    jds = np.arange(jd_start,jd_end, datewidth) #array of points across time range\n",
    "    jdsub = jds-np.floor(jds[0])\n",
    "    \n",
    "    #find altaz coordinates for target over time range\n",
    "    altaz = pyasl.eq2hor(jds, np.ones(jds.size)*targets[i].coord.ra.deg, np.ones(jds.size)*targets[i].coord.dec.deg, lat=targets[i].lati, lon=targets[i].long, alt=targets[i].alti)\n",
    "    \n",
    "    #find sun position over the time range\n",
    "    sunpos = pyasl.sunpos(jd)\n",
    "    sun_ra, sun_dec = sunpos[1], sunpos[2]\n",
    "    sunpos_altaz = pyasl.eq2hor(jds, np.ones(jds.size)*sun_ra, np.ones(jds.size)*sun_dec, lat=targets[i].lati, lon=targets[i].long, alt=targets[i].lati)\n",
    "    \n",
    "    #find moon position over the time range\n",
    "    mpos = pyasl.moonpos(jds)\n",
    "    m_ra, m_dec = mpos[0], mpos[1]\n",
    "    mpos_altaz = pyasl.eq2hor(jds, np.ones(jds.size)*m_ra, np.ones(jds.size)*m_dec, lat=targets[i].lati, lon=targets[i].long, alt=targets[i].alti)\n",
    "\n",
    "    mpha = pyasl.moonphase(jds) #find moonphase\n",
    "    avg_mpha = np.round(np.mean(mpha),2)\n",
    "    moonvis = np.where(mpos_altaz[0] > 0.0)[0] #find whether moon is visible\n",
    "    \n",
    "    #find ranges on day, twilight, and night\n",
    "    day = np.where(sunpos_altaz[0] >= 0.0)[0]\n",
    "    twi = np.where(np.logical_and(sunpos_altaz[0] > -18.0, sunpos_altaz[0] <0.0))[0]\n",
    "    night = np.where(sunpos_altaz[0] <= -18.0)[0]\n",
    "    \n",
    "    #plot visbility curve of target and moon\n",
    "    plt.plot(jdsub[night],altaz[0][night],'.',label='Night',color='blue')\n",
    "    plt.plot(jdsub[twi],altaz[0][twi],'.',label='Twilight',color='cyan')\n",
    "    plt.plot(jdsub[day],altaz[0][day],'.',label='Day',color='orange')\n",
    "    plt.plot(jdsub, mpos_altaz[0],'.',label='Moon',color='black')\n",
    "    \n",
    "    maxalt = max(altaz[0]) #find max target altitude\n",
    "    \n",
    "    axes = plt.gca()\n",
    "    \n",
    "    #set x labels to UTC time\n",
    "    xrange = axes.get_xlim()\n",
    "    jdhours = np.arange(0,3,1.0/12.0)\n",
    "    utchours = (np.arange(0,72,2,dtype=int)+12+targets[i].zone)%24\n",
    "    plt.xticks(jdhours,utchours)\n",
    "    \n",
    "    #graph settings\n",
    "    plt.xlabel('UT+'+str(targets[i].zone)+', starting on '+targets[i].date)\n",
    "    plt.ylabel('Target altitude ($^{\\circ}$)')\n",
    "    plt.grid()\n",
    "    lgd = plt.legend(bbox_to_anchor=(1,1))\n",
    "    plt.title(targets[i].name+' visibility from '+targets[i].loc)\n",
    "    plt.xlim(jdsub[0],jdsub[len(jdsub)-1])\n",
    "    plt.ylim(min(altaz[0])-5,max(altaz[0])+5)\n",
    "    plt.text(0.82+targets[i].zone/17,min(altaz[0]-3),'M.I. '+str(avg_mpha*100)+'%') #calculate average moon illumination\n",
    "    plt.axvspan(0,jdsub[twi][0], color='k', alpha=0.1)\n",
    "    plt.axvspan(jdsub[twi][len(jdsub[twi])-1], 1+targets[i].zone, color='k',alpha=0.1)\n",
    "    plt.text(0.02+targets[i].zone/17,maxalt+2,'Max Alt.: '+str(np.round(maxalt,1))+'$^{\\circ}$')\n",
    "    \n",
    "    #plot graph\n",
    "    plt.savefig(targets[i].date+'-'+targets[i].name+'-'+targets[i].loc,dpi=300, bbox_extra_artists=(lgd,),bbox_inches='tight')\n",
    "    plt.show()\n",
    "    \n",
    "    #dictionary\n",
    "    observable = False\n",
    "    \n",
    "    #extract night start time\n",
    "    night_start = jdsub[twi][0]\n",
    "    ns_hour = str(int(str(night_start*24)[0])+12) #convert from JD to decimal, take first digit as hour\n",
    "    ns_min_raw = str(int(np.round(night_start*24%1*60,2))) #convert from JD to decimal, take decimal, convert to minutes\n",
    "    #check for two digit minutes\n",
    "    if len(ns_min_raw) == 1:\n",
    "        ns_min = str('0'+ns_min_raw)\n",
    "    else:\n",
    "        ns_min = ns_min_raw\n",
    "    ns_utc = ns_hour+\":\"+ns_min\n",
    "    \n",
    "    #extract night end time\n",
    "    night_end = jdsub[twi][len(jdsub[twi])-1]\n",
    "    ne_hour = str((night_end-0.5)*24)[0] #convert from JD to decimal, take first digit as hour\n",
    "    ne_min_raw = str(int(np.round(night_end*24%1*60,2))) #convert from JD to decimal, take decimal, convert to minutes\n",
    "    #check for two digit minutes\n",
    "    if len(ne_min_raw) == 1:\n",
    "        ne_min = str('0'+ne_min_raw)\n",
    "    else:\n",
    "        ne_min = ne_min_raw\n",
    "    ne_utc = ne_hour+\":\"+ne_min\n",
    "\n",
    "    \n",
    "    alt_start = altaz[0][twi][0] #altitude at start of night\n",
    "    alt_end = altaz[0][twi][len(jdsub[twi])-1] #altitude at end of night\n",
    "    #altitude around midnight\n",
    "    index = len(jdsub)/2\n",
    "    index_test = index%1\n",
    "    if index_test != 0:\n",
    "        midindex = int(index+0.5)\n",
    "    else:\n",
    "        midindex = int(index)\n",
    "    alt_mid = altaz[0][midindex]\n",
    "\n",
    "    #check if target moves above horizon\n",
    "    if max(altaz[0] > 0):\n",
    "        observable = True\n",
    "        \n",
    "    #round floats    \n",
    "    alt_start = np.round(alt_start,5)\n",
    "    alt_mid = np.round(alt_mid,5)\n",
    "    alt_end = np.round(alt_end,5)\n",
    "        \n",
    "    #put data into dictionary\n",
    "    out_data = {\n",
    "        'date' : targets[i].date,\n",
    "        'target' : targets[i].name,\n",
    "        'observatory' : targets[i].loc,\n",
    "        'night start' : ns_utc,\n",
    "        'night end' : ne_utc,\n",
    "        'observability' : observable,\n",
    "        'altitude start' : alt_start,\n",
    "        'altitude middle' : alt_mid,\n",
    "        'altitude end' : alt_end,\n",
    "        'moon phase' : avg_mpha\n",
    "        \n",
    "    }\n",
    "    \n",
    "    json_data = json.dumps(out_data, ensure_ascii=False) #convert dictionary to json\n",
    "    print(json_data)\n",
    "    output.write(json_data+'\\n') #write to file\n",
    "\n",
    "output.close()"
   ]
  },
  {
   "cell_type": "code",
   "execution_count": null,
   "metadata": {},
   "outputs": [],
   "source": []
  },
  {
   "cell_type": "code",
   "execution_count": null,
   "metadata": {},
   "outputs": [],
   "source": []
  }
 ],
 "metadata": {
  "kernelspec": {
   "display_name": "Python 3",
   "language": "python",
   "name": "python3"
  },
  "language_info": {
   "codemirror_mode": {
    "name": "ipython",
    "version": 3
   },
   "file_extension": ".py",
   "mimetype": "text/x-python",
   "name": "python",
   "nbconvert_exporter": "python",
   "pygments_lexer": "ipython3",
   "version": "3.6.5"
  }
 },
 "nbformat": 4,
 "nbformat_minor": 2
}
